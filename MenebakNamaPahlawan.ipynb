{
  "nbformat": 4,
  "nbformat_minor": 0,
  "metadata": {
    "colab": {
      "name": "MenebakNamaPahlawan.ipynb",
      "provenance": [],
      "include_colab_link": true
    },
    "kernelspec": {
      "name": "python3",
      "display_name": "Python 3"
    },
    "language_info": {
      "name": "python"
    }
  },
  "cells": [
    {
      "cell_type": "markdown",
      "metadata": {
        "id": "view-in-github",
        "colab_type": "text"
      },
      "source": [
        "<a href=\"https://colab.research.google.com/github/abdillahsatari/python-menebak_nama_pahlawan/blob/main/MenebakNamaPahlawan.ipynb\" target=\"_parent\"><img src=\"https://colab.research.google.com/assets/colab-badge.svg\" alt=\"Open In Colab\"/></a>"
      ]
    },
    {
      "cell_type": "code",
      "metadata": {
        "colab": {
          "base_uri": "https://localhost:8080/"
        },
        "id": "omJjHqFRG4Zm",
        "outputId": "077c3194-7ee5-4d9e-e8bc-bfa9615ae681"
      },
      "source": [
        "!python '/content/python/index.py'"
      ],
      "execution_count": null,
      "outputs": [
        {
          "output_type": "stream",
          "text": [
            "Nama Mahasiswa: Lailatu Qomariah\n",
            "NIM: 120200402005\n",
            "\r\n",
            "Halo petualang! Selamat datang pada permainan tebak nama pahlawan!\n",
            "Mari lihat seberapa jauh kamu mengenal para pahlawan Bangsa!\n",
            "Siapa nama Anda? Abdillah\n",
            "\n",
            "Hi, Abdillah, apakah Anda ingin bermain tebak nama pahlawan? (Tulis Ya/Tidak) ya\n",
            "Sebelum kita mulai menurut anda berapa banyak nama pahlawan yang dapat anda tebak?\n",
            "Masukkan jumlah tebakan yang anda inginkan 5\n",
            "\n",
            "Hebat! Mari Kita Mulai Abdillah, semoga anda beruntung!\n",
            "\n",
            "Masukkan Nama Pahlawan ke-1: Pangeran Diponegoro\n",
            "\n",
            "Masukkan Nama Pahlawan ke-2: Opu Daeng Risaju\n",
            "\n",
            "Masukkan Nama Pahlawan ke-3: Tan Malaka\n",
            "Oh tidak!, element huruf pertamanya bukan element huruf terakhir dari tebakan sebelumnya. Silahkan tebak pahlawan yang lain\n",
            "\n",
            "Masukkan Nama Pahlawan ke-3: OpuDaeng Risaju\n",
            "Oh tidak!, element huruf pertamanya bukan element huruf terakhir dari tebakan sebelumnya. Silahkan tebak pahlawan yang lain\n",
            "\n",
            "Masukkan Nama Pahlawan ke-3: Opu Daeng Risaju\n",
            "Oh tidak!, OPU DAENG RISAJU sudah disebutkan. Silahkan tebak pahlawan yang lain\n",
            "\n",
            "Masukkan Nama Pahlawan ke-3: Urip Sumoharjo\n",
            "\n",
            "Masukkan Nama Pahlawan ke-4: Oto Iskandar di Nata\n",
            "\n",
            "Masukkan Nama Pahlawan ke-5: Abdul Haris Nasution\n",
            "Selamat anda telah berhasil menebak nama pahlawan dengan baik dan benar\n",
            "Berikut adalah jawaban anda yang sudah di sorting:\n",
            "URIP SUMOHARJO\n",
            "PANGERAN DIPONEGORO\n",
            "OTO ISKANDAR DI NATA\n",
            "OPU DAENG RISAJU\n",
            "ABDUL HARIS NASUTION\n",
            "Apakah Anda ingin coba lagi? (Tulis Ya/Tidak) tidak\n",
            "Terima kasih, sampai jumpa kembali!\n"
          ],
          "name": "stdout"
        }
      ]
    }
  ]
}